{
  "nbformat": 4,
  "nbformat_minor": 0,
  "metadata": {
    "colab": {
      "name": "Customer awards.ipynb",
      "provenance": [],
      "collapsed_sections": [],
      "authorship_tag": "ABX9TyPZUW89jwwOj5val7TA56sf",
      "include_colab_link": true
    },
    "kernelspec": {
      "name": "python3",
      "display_name": "Python 3"
    },
    "language_info": {
      "name": "python"
    }
  },
  "cells": [
    {
      "cell_type": "markdown",
      "metadata": {
        "id": "view-in-github",
        "colab_type": "text"
      },
      "source": [
        "<a href=\"https://colab.research.google.com/github/ritianesonai/BI/blob/main/Customer_awards.ipynb\" target=\"_parent\"><img src=\"https://colab.research.google.com/assets/colab-badge.svg\" alt=\"Open In Colab\"/></a>"
      ]
    },
    {
      "cell_type": "markdown",
      "metadata": {
        "id": "2hga2Wu7fmvO"
      },
      "source": [
        "## **Importando dados:**"
      ]
    },
    {
      "cell_type": "code",
      "metadata": {
        "id": "ynm9AUPLQhiA"
      },
      "source": [
        "!pip install seaborn==0.9.0\n",
        "import pandas as pd\n",
        "import seaborn as sns\n",
        "\n",
        "\n",
        "dados = pd.read_excel('avaliacao_awards.xls', usecols = \"A:F\")\n",
        "renomear ={'Locadora' : 'locadora', 'País' : 'pais', 'Cidade' : 'cidade', 'Loja (IATA)' : 'loja', 'Total de Avaliações' : 'avaliacoes', 'Nota' : 'nota'}\n",
        "dados = dados.rename(columns= renomear)\n",
        "dados.info()"
      ],
      "execution_count": null,
      "outputs": []
    },
    {
      "cell_type": "code",
      "metadata": {
        "id": "2KSBif5bg4W_"
      },
      "source": [
        "dados['apto'] = 'NaN'\n",
        "dados['recomendado'] = 'NaN'"
      ],
      "execution_count": null,
      "outputs": []
    },
    {
      "cell_type": "markdown",
      "metadata": {
        "id": "LfLQ56xrjg27"
      },
      "source": [
        "# **Explorando:**"
      ]
    },
    {
      "cell_type": "code",
      "metadata": {
        "id": "7gsBJx6HRdKn"
      },
      "source": [
        "sns.set(rc={'figure.figsize':(16,8)})\n",
        "\n",
        "## sns.scatterplot(x ='avaliacoes', y ='nota', data =dados)\n",
        "dados.boxplot(['avaliacoes'], by = ['pais'])"
      ],
      "execution_count": null,
      "outputs": []
    },
    {
      "cell_type": "markdown",
      "metadata": {
        "id": "7h3sjV2SfdjA"
      },
      "source": [
        "# **Verificando quantidade mínima de avaliações e nota mímima:**"
      ]
    },
    {
      "cell_type": "code",
      "metadata": {
        "id": "DoUmvTzvS9iD"
      },
      "source": [
        "avaliacoes_Q1 = dados['avaliacoes'].quantile(0.25)\n",
        "avaliacoes_Q2 = dados['avaliacoes'].quantile(0.5)\n",
        "avaliacoes_Q3 = dados['avaliacoes'].quantile(0.75)\n",
        "avaliacoes_IIQ = Q3 - Q1\n",
        "avaliacoes_limite_inferior = Q1 - 1.5 * IIQ\n",
        "avaliacoes_limite_superior = Q3 + 1.5 * IIQ\n",
        "\n",
        "\n",
        "nota_Q1 = dados['nota'].quantile(0.25)\n",
        "nota_Q2 = dados['nota'].quantile(0.5)\n",
        "nota_Q3 = dados['nota'].quantile(0.75)\n",
        "nota_IIQ = Q3 - Q1\n",
        "nota_limite_inferior = Q1 - 1.5 * IIQ\n",
        "nota_limite_superior = Q3 + 1.5 * IIQ\n",
        "\n",
        "print('Primeiro quartil avaliacoes ', avaliacoes_Q1)\n",
        "print('Terceiro quartil avaliacoes ', avaliacoes_Q3)\n",
        "print('Primeiro quartil nota ', nota_Q1)\n",
        "print('Terceiro quartil nota ', nota_Q3)"
      ],
      "execution_count": null,
      "outputs": []
    },
    {
      "cell_type": "code",
      "metadata": {
        "id": "FvJ4MPZCcEbY"
      },
      "source": [
        "for index, row in dados.iterrows():\n",
        "  if row['avaliacoes'] >= avaliacoes_Q1:\n",
        "    dados.loc[index,'apto'] = 'Sim'\n",
        "  else:\n",
        "    dados.loc[index,'apto'] = 'Nao'\n",
        "\n",
        "\n",
        "for index, row in dados.iterrows():\n",
        "  if (row['avaliacoes'] >= avaliacoes_Q1) & (row['nota'] >= nota_Q3):\n",
        "    dados.loc[index,'recomendado'] = 'Sim'\n",
        "  else:\n",
        "    dados.loc[index,'recomendado'] = 'Nao'\n",
        "\n",
        "\n",
        "dados"
      ],
      "execution_count": null,
      "outputs": []
    },
    {
      "cell_type": "markdown",
      "metadata": {
        "id": "nUHerqYhx2h8"
      },
      "source": [
        "# **Colocar iteração por país:**"
      ]
    },
    {
      "cell_type": "code",
      "metadata": {
        "id": "akWs_C4mi68h"
      },
      "source": [
        "grupo = dados.groupby('pais').quantile(.25)\n",
        "grupo = pd.DataFrame(data=grupo)\n",
        "grupo"
      ],
      "execution_count": null,
      "outputs": []
    },
    {
      "cell_type": "code",
      "metadata": {
        "id": "1j6IN-5CtnkF"
      },
      "source": [
        "## FAZER"
      ],
      "execution_count": null,
      "outputs": []
    }
  ]
}